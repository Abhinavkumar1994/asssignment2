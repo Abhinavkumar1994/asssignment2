{
 "cells": [
  {
   "cell_type": "code",
   "execution_count": null,
   "id": "77faab18-f016-4738-91e7-04550a502eb7",
   "metadata": {},
   "outputs": [],
   "source": [
    "Q1. Which keyword is used to create a function? Create a function to return a list of odd numbers in the\n",
    "range of 1 to 25."
   ]
  },
  {
   "cell_type": "code",
   "execution_count": 9,
   "id": "e9ff8174-18d7-4b08-ba57-777ca15e1566",
   "metadata": {},
   "outputs": [],
   "source": [
    "\"\"\"ANS:def keyword is used to create a function\"\"\"\n",
    "def oddno():\n",
    "    l1=[]\n",
    "    for i in range(1,26,1):\n",
    "        if i%2!=0:\n",
    "            l1.append(i)\n",
    "    return l1        \n",
    "            "
   ]
  },
  {
   "cell_type": "code",
   "execution_count": 10,
   "id": "079a1079-8cd0-460a-bf21-314610b8f61e",
   "metadata": {},
   "outputs": [
    {
     "data": {
      "text/plain": [
       "[1, 3, 5, 7, 9, 11, 13, 15, 17, 19, 21, 23, 25]"
      ]
     },
     "execution_count": 10,
     "metadata": {},
     "output_type": "execute_result"
    }
   ],
   "source": [
    "oddno()"
   ]
  },
  {
   "cell_type": "code",
   "execution_count": 13,
   "id": "d2dc0ad3-a6cb-4aec-b64a-71edd89d348b",
   "metadata": {},
   "outputs": [],
   "source": [
    "##Q2. Why *args and **kwargs is used in some functions? Create a function each for *args and **kwargs\n",
    "##to demonstrate their use.\"\"\""
   ]
  },
  {
   "cell_type": "code",
   "execution_count": 14,
   "id": "9fe08a85-15ba-4e24-9a9b-816b8c8bb0f9",
   "metadata": {},
   "outputs": [],
   "source": [
    "## ANS:*args are used to enter argumen in paranthesis and after that it will print as it is written\n",
    "##but in case of **kwargs argument is given to give output in form of key value"
   ]
  },
  {
   "cell_type": "code",
   "execution_count": 15,
   "id": "cbfe722b-80ff-4ef9-9391-5ca48d8708f9",
   "metadata": {},
   "outputs": [],
   "source": [
    "def type1(*args):\n",
    "    return args"
   ]
  },
  {
   "cell_type": "code",
   "execution_count": 16,
   "id": "5ca4e2ca-cc16-4232-a5fd-bf2137b7ceb5",
   "metadata": {},
   "outputs": [
    {
     "data": {
      "text/plain": [
       "('abhinav kumar', 1, 2, 3, 4, 4, [1, 2, 3, 4, 2], (3+9j), 22.33)"
      ]
     },
     "execution_count": 16,
     "metadata": {},
     "output_type": "execute_result"
    }
   ],
   "source": [
    "type1(\"abhinav kumar\",1,2,3,4,4,[1,2,3,4,2],3+9j,22.33)"
   ]
  },
  {
   "cell_type": "code",
   "execution_count": 11,
   "id": "3fdc4da9-5ebf-4ae9-9c48-7486cc24c68a",
   "metadata": {},
   "outputs": [],
   "source": [
    "def type1(**kwargs):\n",
    "    return (kwargs)"
   ]
  },
  {
   "cell_type": "code",
   "execution_count": 12,
   "id": "33fd84d2-4517-4f63-8434-3ebbde875a82",
   "metadata": {},
   "outputs": [
    {
     "data": {
      "text/plain": [
       "{'a': 'five', 'b': 'two'}"
      ]
     },
     "execution_count": 12,
     "metadata": {},
     "output_type": "execute_result"
    }
   ],
   "source": [
    "type1(a=\"five\",b=\"two\")"
   ]
  },
  {
   "cell_type": "code",
   "execution_count": 13,
   "id": "222b715f-1afe-4dea-85b9-4132c02dc18a",
   "metadata": {},
   "outputs": [],
   "source": [
    "##Q3. What is an iterator in python? iteratoName the method used to initialise the r object and the method\n",
    "##used for iteration. Use these methods to print the first five elements of the given list [2, 4, 6, 8, 10, 12, 14,\n",
    "##16, 18, 20]."
   ]
  },
  {
   "cell_type": "markdown",
   "id": "605bd2c6-e27c-4289-9fda-34d1dd9f4ec8",
   "metadata": {},
   "source": [
    "##ANS:Iterator in python is an object which allows to access all its element.\n",
    "iter method is used to initialize and iteration"
   ]
  },
  {
   "cell_type": "code",
   "execution_count": 15,
   "id": "5d6dc593-eb55-4e8c-bf2d-55a4bd5eb316",
   "metadata": {},
   "outputs": [],
   "source": [
    "## with for loop\n",
    "l=[2,4,6,8,10,12,14,16,18.20]"
   ]
  },
  {
   "cell_type": "code",
   "execution_count": 21,
   "id": "22087cf9-dd7f-4b1c-af26-de01df2222e3",
   "metadata": {},
   "outputs": [
    {
     "data": {
      "text/plain": [
       "[2, 4, 6, 8, 10]"
      ]
     },
     "execution_count": 21,
     "metadata": {},
     "output_type": "execute_result"
    }
   ],
   "source": [
    "l1=[]\n",
    "for i in range(0,5,1):\n",
    "    l1.append(l[i])\n",
    "l1    \n",
    "    \n",
    "    \n",
    "    \n",
    "    "
   ]
  },
  {
   "cell_type": "code",
   "execution_count": 22,
   "id": "a3df9192-7716-46e5-a2e6-630c82a32567",
   "metadata": {},
   "outputs": [],
   "source": [
    "## with while"
   ]
  },
  {
   "cell_type": "code",
   "execution_count": 24,
   "id": "27e9ff4e-44c1-49b8-b698-cf83f18f048c",
   "metadata": {},
   "outputs": [
    {
     "data": {
      "text/plain": [
       "[2, 4, 6, 8, 10]"
      ]
     },
     "execution_count": 24,
     "metadata": {},
     "output_type": "execute_result"
    }
   ],
   "source": [
    "l1=[]\n",
    "n=5\n",
    "i=0\n",
    "while i<5:\n",
    "    l1.append(l[i])\n",
    "    i=i+1\n",
    "l1   \n",
    "    "
   ]
  },
  {
   "cell_type": "code",
   "execution_count": 25,
   "id": "6d610fb2-a607-4b42-ae58-6ac374dc43ae",
   "metadata": {},
   "outputs": [],
   "source": [
    "##Q6. Write a python program to print the first 10 Fibonacci numbers using a while loop."
   ]
  },
  {
   "cell_type": "code",
   "execution_count": 26,
   "id": "37cbd6af-2b8e-47c1-ad26-6df1ca1d60c8",
   "metadata": {},
   "outputs": [],
   "source": [
    "##ANS"
   ]
  },
  {
   "cell_type": "code",
   "execution_count": 27,
   "id": "3eeefb1e-a617-42e3-99fb-2ff90fff2f59",
   "metadata": {},
   "outputs": [
    {
     "data": {
      "text/plain": [
       "[0, 1, 1, 2, 3, 5, 8, 13, 21, 34]"
      ]
     },
     "execution_count": 27,
     "metadata": {},
     "output_type": "execute_result"
    }
   ],
   "source": [
    "l1=[]\n",
    "n=10\n",
    "a=0\n",
    "b=1\n",
    "i=0\n",
    "while i<10:\n",
    "    l1.append(a)\n",
    "    c=a+b\n",
    "    a=b\n",
    "    b=c\n",
    "    i=i+1\n",
    "l1    \n",
    "    \n",
    "    "
   ]
  },
  {
   "cell_type": "code",
   "execution_count": 1,
   "id": "3cba77fb-6975-41ba-b743-ce0bec1ca000",
   "metadata": {},
   "outputs": [],
   "source": [
    "##Q7. Write a List Comprehension to iterate through the given string: ‘pwskills’.\n",
    "##Expected output: ['p', 'w', 's', 'k', 'i', 'l', 'l', 's']"
   ]
  },
  {
   "cell_type": "code",
   "execution_count": 2,
   "id": "b00b0672-a30f-4618-b391-70bbc7923666",
   "metadata": {},
   "outputs": [],
   "source": [
    "l=\"pwskills\""
   ]
  },
  {
   "cell_type": "code",
   "execution_count": 3,
   "id": "d34c455e-942a-439c-bcdb-7a837171b3e7",
   "metadata": {},
   "outputs": [
    {
     "data": {
      "text/plain": [
       "'pwskills'"
      ]
     },
     "execution_count": 3,
     "metadata": {},
     "output_type": "execute_result"
    }
   ],
   "source": [
    "l"
   ]
  },
  {
   "cell_type": "code",
   "execution_count": 5,
   "id": "0562fad6-d618-4bac-a2fb-be185e679d40",
   "metadata": {},
   "outputs": [],
   "source": [
    "l1=[]"
   ]
  },
  {
   "cell_type": "code",
   "execution_count": 8,
   "id": "868303d6-fe09-4969-8c86-cfd1e3b048f4",
   "metadata": {},
   "outputs": [
    {
     "data": {
      "text/plain": [
       "['p', 'w', 's', 'k', 'i', 'l', 'l', 's']"
      ]
     },
     "execution_count": 8,
     "metadata": {},
     "output_type": "execute_result"
    }
   ],
   "source": [
    "[i for i in l]"
   ]
  },
  {
   "cell_type": "code",
   "execution_count": 9,
   "id": "03c89608-aa59-4227-99de-76a03a25e8d7",
   "metadata": {},
   "outputs": [],
   "source": [
    "##Q8. Write a python program to check whether a given number is Palindrome or not using a while loop."
   ]
  },
  {
   "cell_type": "code",
   "execution_count": 10,
   "id": "ccdd1205-c69b-466b-a17b-160750d8ba46",
   "metadata": {},
   "outputs": [],
   "source": [
    "##Ans"
   ]
  },
  {
   "cell_type": "code",
   "execution_count": 16,
   "id": "05f6aa98-99eb-4d43-a6a8-16bef05296cf",
   "metadata": {},
   "outputs": [
    {
     "name": "stdin",
     "output_type": "stream",
     "text": [
      "put number for pallindrome 13431\n"
     ]
    },
    {
     "name": "stdout",
     "output_type": "stream",
     "text": [
      "it is palindrome no\n"
     ]
    }
   ],
   "source": [
    "num=int(input(\"put number for pallindrome\"))\n",
    "temp=num\n",
    "rev=0\n",
    "while(num>0):\n",
    "    dig=num%10\n",
    "    rev=10*rev+dig\n",
    "    num=num//10\n",
    "if(temp==rev):\n",
    "    print(\"it is palindrome no\")\n",
    "else:\n",
    "    print(\"it is not a palindrome no\")\n",
    "    \n",
    "    \n"
   ]
  },
  {
   "cell_type": "code",
   "execution_count": 1,
   "id": "cc837819-24f3-41f5-8024-1e91e75b236f",
   "metadata": {},
   "outputs": [],
   "source": [
    "##Q9. Write a code to print odd numbers from 1 to 100 using list comprehension.\n",
    "##Note: Use a list comprehension to create a list from 1 to 100 and use another List comprehension to filter\n",
    "##out odd numbers."
   ]
  },
  {
   "cell_type": "code",
   "execution_count": 2,
   "id": "173145aa-b539-4030-bd7f-eb03445d52ad",
   "metadata": {},
   "outputs": [],
   "source": [
    "l=[range(0,101,1)]"
   ]
  },
  {
   "cell_type": "code",
   "execution_count": 3,
   "id": "41f2d0b0-3e83-4baf-b388-585be818ec07",
   "metadata": {},
   "outputs": [
    {
     "data": {
      "text/plain": [
       "[range(0, 101)]"
      ]
     },
     "execution_count": 3,
     "metadata": {},
     "output_type": "execute_result"
    }
   ],
   "source": [
    "l"
   ]
  },
  {
   "cell_type": "code",
   "execution_count": 4,
   "id": "7f3b6081-534f-46c0-97d1-1619321bf792",
   "metadata": {},
   "outputs": [],
   "source": [
    "l=[ i for i in range(1,101,1)]"
   ]
  },
  {
   "cell_type": "code",
   "execution_count": 5,
   "id": "b4c47061-8627-4c46-b485-e2744d0ffe78",
   "metadata": {},
   "outputs": [
    {
     "data": {
      "text/plain": [
       "[1,\n",
       " 2,\n",
       " 3,\n",
       " 4,\n",
       " 5,\n",
       " 6,\n",
       " 7,\n",
       " 8,\n",
       " 9,\n",
       " 10,\n",
       " 11,\n",
       " 12,\n",
       " 13,\n",
       " 14,\n",
       " 15,\n",
       " 16,\n",
       " 17,\n",
       " 18,\n",
       " 19,\n",
       " 20,\n",
       " 21,\n",
       " 22,\n",
       " 23,\n",
       " 24,\n",
       " 25,\n",
       " 26,\n",
       " 27,\n",
       " 28,\n",
       " 29,\n",
       " 30,\n",
       " 31,\n",
       " 32,\n",
       " 33,\n",
       " 34,\n",
       " 35,\n",
       " 36,\n",
       " 37,\n",
       " 38,\n",
       " 39,\n",
       " 40,\n",
       " 41,\n",
       " 42,\n",
       " 43,\n",
       " 44,\n",
       " 45,\n",
       " 46,\n",
       " 47,\n",
       " 48,\n",
       " 49,\n",
       " 50,\n",
       " 51,\n",
       " 52,\n",
       " 53,\n",
       " 54,\n",
       " 55,\n",
       " 56,\n",
       " 57,\n",
       " 58,\n",
       " 59,\n",
       " 60,\n",
       " 61,\n",
       " 62,\n",
       " 63,\n",
       " 64,\n",
       " 65,\n",
       " 66,\n",
       " 67,\n",
       " 68,\n",
       " 69,\n",
       " 70,\n",
       " 71,\n",
       " 72,\n",
       " 73,\n",
       " 74,\n",
       " 75,\n",
       " 76,\n",
       " 77,\n",
       " 78,\n",
       " 79,\n",
       " 80,\n",
       " 81,\n",
       " 82,\n",
       " 83,\n",
       " 84,\n",
       " 85,\n",
       " 86,\n",
       " 87,\n",
       " 88,\n",
       " 89,\n",
       " 90,\n",
       " 91,\n",
       " 92,\n",
       " 93,\n",
       " 94,\n",
       " 95,\n",
       " 96,\n",
       " 97,\n",
       " 98,\n",
       " 99,\n",
       " 100]"
      ]
     },
     "execution_count": 5,
     "metadata": {},
     "output_type": "execute_result"
    }
   ],
   "source": [
    "l"
   ]
  },
  {
   "cell_type": "code",
   "execution_count": 8,
   "id": "757ce281-8f3a-43f2-9b0c-1e7f27a1fc5a",
   "metadata": {},
   "outputs": [],
   "source": [
    "l1=[i for i in l if i%2!=0]"
   ]
  },
  {
   "cell_type": "code",
   "execution_count": 9,
   "id": "19fb451e-8e03-4847-8c21-2fb3a0823553",
   "metadata": {},
   "outputs": [
    {
     "data": {
      "text/plain": [
       "[1,\n",
       " 3,\n",
       " 5,\n",
       " 7,\n",
       " 9,\n",
       " 11,\n",
       " 13,\n",
       " 15,\n",
       " 17,\n",
       " 19,\n",
       " 21,\n",
       " 23,\n",
       " 25,\n",
       " 27,\n",
       " 29,\n",
       " 31,\n",
       " 33,\n",
       " 35,\n",
       " 37,\n",
       " 39,\n",
       " 41,\n",
       " 43,\n",
       " 45,\n",
       " 47,\n",
       " 49,\n",
       " 51,\n",
       " 53,\n",
       " 55,\n",
       " 57,\n",
       " 59,\n",
       " 61,\n",
       " 63,\n",
       " 65,\n",
       " 67,\n",
       " 69,\n",
       " 71,\n",
       " 73,\n",
       " 75,\n",
       " 77,\n",
       " 79,\n",
       " 81,\n",
       " 83,\n",
       " 85,\n",
       " 87,\n",
       " 89,\n",
       " 91,\n",
       " 93,\n",
       " 95,\n",
       " 97,\n",
       " 99]"
      ]
     },
     "execution_count": 9,
     "metadata": {},
     "output_type": "execute_result"
    }
   ],
   "source": [
    "l1"
   ]
  },
  {
   "cell_type": "code",
   "execution_count": 1,
   "id": "15a1ebfb-87c4-4187-995f-07851026091d",
   "metadata": {},
   "outputs": [],
   "source": [
    "##Q4. What is a generator function in python? Why yield keyword is used? Give an example of a generator\n",
    "##function."
   ]
  },
  {
   "cell_type": "markdown",
   "id": "51c1de07-131b-4141-a26c-b81542e81957",
   "metadata": {},
   "source": [
    "ANS:\n",
    "generator function is a kind of function in which we can save a huge amount of memory loss by making it.\n",
    "in this function we print one output in one time using yield keyword.\n"
   ]
  },
  {
   "cell_type": "code",
   "execution_count": 3,
   "id": "cb2b53bf-3602-4bcc-aff3-10a75e28fbd6",
   "metadata": {},
   "outputs": [],
   "source": [
    "def test_count1(n):\n",
    "    count = 0\n",
    "    while True:\n",
    "        count += 1\n",
    "        yield count\n",
    "        if count == n:\n",
    "            break"
   ]
  },
  {
   "cell_type": "code",
   "execution_count": 4,
   "id": "6158a1ce-1dfe-4bc3-b40e-6f9918d3b066",
   "metadata": {},
   "outputs": [],
   "source": [
    "c = test_count1(20)"
   ]
  },
  {
   "cell_type": "code",
   "execution_count": 5,
   "id": "ca3fffb1-8c6d-4c75-9d7e-77b5ede58564",
   "metadata": {},
   "outputs": [
    {
     "name": "stdout",
     "output_type": "stream",
     "text": [
      "1\n",
      "2\n",
      "3\n",
      "4\n",
      "5\n",
      "6\n",
      "7\n",
      "8\n",
      "9\n",
      "10\n",
      "11\n",
      "12\n",
      "13\n",
      "14\n",
      "15\n",
      "16\n",
      "17\n",
      "18\n",
      "19\n",
      "20\n"
     ]
    }
   ],
   "source": [
    "for i in c:\n",
    "    print(i)"
   ]
  },
  {
   "cell_type": "code",
   "execution_count": null,
   "id": "6f1771d7-c5d4-4f55-b0a2-c5ec2fa4e2ad",
   "metadata": {},
   "outputs": [],
   "source": [
    "def test_count1(n):\n",
    "    count=0\n",
    "    while True:\n",
    "        count=count+1\n",
    "c=test_count1(20)\n",
    "for i in c:\n",
    "    print(i)"
   ]
  },
  {
   "cell_type": "markdown",
   "id": "e783b6dd-5602-4bef-8f9b-a37c50091154",
   "metadata": {},
   "source": [
    "Q5. Create a generator function for prime numbers less than 1000. Use the next() method to print the\n",
    "first 20 prime numbers."
   ]
  },
  {
   "cell_type": "code",
   "execution_count": 1,
   "id": "28e63b6d-8c89-4ab1-b71e-30c72a9778bd",
   "metadata": {},
   "outputs": [],
   "source": [
    "def test_prime(n):\n",
    "    for i in range(1,n,1):\n",
    "        if i>1:\n",
    "            for j in range(2,i,1):\n",
    "                if i%j==0:\n",
    "                    break\n",
    "            else:\n",
    "                yield i\n",
    "                \n",
    "                        \n",
    "                    \n",
    "                \n",
    "    \n",
    "    \n",
    "            \n",
    "            \n",
    "            \n",
    "    \n",
    "    "
   ]
  },
  {
   "cell_type": "code",
   "execution_count": 2,
   "id": "1ad425c1-2ac5-4579-87ca-54ae0e9315f4",
   "metadata": {},
   "outputs": [
    {
     "name": "stdout",
     "output_type": "stream",
     "text": [
      "2\n",
      "3\n",
      "5\n",
      "7\n",
      "11\n",
      "13\n",
      "17\n",
      "19\n",
      "23\n",
      "29\n",
      "31\n",
      "37\n",
      "41\n",
      "43\n",
      "47\n",
      "53\n",
      "59\n",
      "61\n",
      "67\n",
      "71\n",
      "73\n",
      "79\n",
      "83\n",
      "89\n",
      "97\n",
      "101\n",
      "103\n",
      "107\n",
      "109\n",
      "113\n",
      "127\n",
      "131\n",
      "137\n",
      "139\n",
      "149\n",
      "151\n",
      "157\n",
      "163\n",
      "167\n",
      "173\n",
      "179\n",
      "181\n",
      "191\n",
      "193\n",
      "197\n",
      "199\n",
      "211\n",
      "223\n",
      "227\n",
      "229\n",
      "233\n",
      "239\n",
      "241\n",
      "251\n",
      "257\n",
      "263\n",
      "269\n",
      "271\n",
      "277\n",
      "281\n",
      "283\n",
      "293\n",
      "307\n",
      "311\n",
      "313\n",
      "317\n",
      "331\n",
      "337\n",
      "347\n",
      "349\n",
      "353\n",
      "359\n",
      "367\n",
      "373\n",
      "379\n",
      "383\n",
      "389\n",
      "397\n",
      "401\n",
      "409\n",
      "419\n",
      "421\n",
      "431\n",
      "433\n",
      "439\n",
      "443\n",
      "449\n",
      "457\n",
      "461\n",
      "463\n",
      "467\n",
      "479\n",
      "487\n",
      "491\n",
      "499\n",
      "503\n",
      "509\n",
      "521\n",
      "523\n",
      "541\n",
      "547\n",
      "557\n",
      "563\n",
      "569\n",
      "571\n",
      "577\n",
      "587\n",
      "593\n",
      "599\n",
      "601\n",
      "607\n",
      "613\n",
      "617\n",
      "619\n",
      "631\n",
      "641\n",
      "643\n",
      "647\n",
      "653\n",
      "659\n",
      "661\n",
      "673\n",
      "677\n",
      "683\n",
      "691\n",
      "701\n",
      "709\n",
      "719\n",
      "727\n",
      "733\n",
      "739\n",
      "743\n",
      "751\n",
      "757\n",
      "761\n",
      "769\n",
      "773\n",
      "787\n",
      "797\n",
      "809\n",
      "811\n",
      "821\n",
      "823\n",
      "827\n",
      "829\n",
      "839\n",
      "853\n",
      "857\n",
      "859\n",
      "863\n",
      "877\n",
      "881\n",
      "883\n",
      "887\n",
      "907\n",
      "911\n",
      "919\n",
      "929\n",
      "937\n",
      "941\n",
      "947\n",
      "953\n",
      "967\n",
      "971\n",
      "977\n",
      "983\n",
      "991\n",
      "997\n"
     ]
    }
   ],
   "source": [
    "for i in test_prime(1000):\n",
    "    print(i)\n",
    "    "
   ]
  },
  {
   "cell_type": "code",
   "execution_count": 2,
   "id": "2868d75a-8a97-4adb-86ea-496d1e82d1da",
   "metadata": {},
   "outputs": [],
   "source": [
    "\n",
    "            \n",
    "    \n",
    "    \n",
    "\n",
    "    "
   ]
  },
  {
   "cell_type": "code",
   "execution_count": null,
   "id": "2f1f9012-203c-4f88-8275-f80e56e6503c",
   "metadata": {},
   "outputs": [],
   "source": []
  }
 ],
 "metadata": {
  "kernelspec": {
   "display_name": "Python 3 (ipykernel)",
   "language": "python",
   "name": "python3"
  },
  "language_info": {
   "codemirror_mode": {
    "name": "ipython",
    "version": 3
   },
   "file_extension": ".py",
   "mimetype": "text/x-python",
   "name": "python",
   "nbconvert_exporter": "python",
   "pygments_lexer": "ipython3",
   "version": "3.10.8"
  }
 },
 "nbformat": 4,
 "nbformat_minor": 5
}
